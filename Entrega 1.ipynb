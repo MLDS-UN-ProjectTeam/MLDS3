{
 "cells": [
  {
   "cell_type": "markdown",
   "metadata": {
    "id": "2qrgS_sCJquS"
   },
   "source": [
    "<img src = \"./resources/images/Banner1.png\" alt = \"Encabezado MLDS\" width = \"100%\">  </img>"
   ]
  },
  {
   "cell_type": "markdown",
   "metadata": {
    "id": "--22KSZzLR-o"
   },
   "source": [
    "# **Entendimiento del negocio**\n",
    "---"
   ]
  },
  {
   "cell_type": "markdown",
   "metadata": {},
   "source": [
    "## **0. Integrantes del equipo de trabajo**\n",
    "---\n",
    "\n",
    "<table><thead>\n",
    "  <tr>\n",
    "    <th>#</th>\n",
    "    <th>Integrante</th>\n",
    "    <th>Documento de identidad</th>\n",
    "  </tr></thead>\n",
    "<tbody>\n",
    "  <tr>\n",
    "    <td>1</td>\n",
    "    <td>Diego Alejandro Feliciano Ramos</td>\n",
    "    <td>1024586904</td>\n",
    "  </tr>\n",
    "  <tr>\n",
    "    <td>2</td>\n",
    "    <td>Ivonne Cristina Ruiz Páez</td>\n",
    "    <td>1014302058</td>\n",
    "  </tr>\n",
    "  <tr>\n",
    "    <td>3</td>\n",
    "    <td>Christian ?</td>\n",
    "    <td>Añadir cédula</td>\n",
    "  </tr>\n",
    "</tbody>\n",
    "</table>"
   ]
  },
  {
   "cell_type": "markdown",
   "metadata": {
    "id": "fdb4c33d"
   },
   "source": [
    "## **1. Marco de Proyecto**\n",
    "---"
   ]
  },
  {
   "cell_type": "markdown",
   "metadata": {
    "id": "7a974ec1"
   },
   "source": [
    "### **1.1. Trasfondo del Negocio**\n",
    "---\n",
    "* ¿Quienes son los beneficiarios del proyecto? ¿En qué dominio se encuentran (marketing, medicina, entre otros)?\n",
    "* ¿Cuáles son los principales desafíos o problemas de la situación que motivan la necesidad de realizar un proyecto de análisis de datos?\n",
    "---\n",
    "* Los potenciales beneficiarios del proyecto son las organizaciones de conservación ambiental, tales como las ONGs, el CAV -Centro de atención y valoración de la fauna silvestre-, los departamentos, parques, reservas naturales y las entidades hacedoras de política pública. Adicionalmente, la industria turística puede promover el flujo de personas interesadas en temas de fauna y el ecoturismo. Por último, pensamos que también puede tener usos educativos en colegios y universidades para concientizar a los alumnos sobre la importanciá de la conservación y la proteccioón del medio ambiente.\n",
    "\n",
    "* El principal desafio inicial es la gran cantidad de datos de entrada pues contamos con 2.5 millones de imagenes distintas para la clasificación. Esta clasificación es inviable de forma manual, por tanto, el uso de técnicas de machine learning es imperativo para la resolución del problema planteado. Además, si queremos realizar un modelo de clasificación, se debe acotar el problema en gran medida puesto que tenemos 97 especies en el dataset. Así, se podría identificar entre especies herbívoras y carnívoras, hembras y machos, una especie X respecto de una Y, entre otros.\n",
    "\n",
    "* Otros posibles posibles desafios son la capacidad computacional de las máquinas locales sobre las cuales se trabajará este dataset."
   ]
  },
  {
   "cell_type": "markdown",
   "metadata": {
    "id": "d09c63e5"
   },
   "source": [
    "### **1.2. Alcance**\n",
    "---\n",
    "\n",
    "- ¿Qué  solución se desea implementar?\n",
    "- ¿Cuáles son los límites y fronteras del proyecto de análisis de datos? ¿Qué aspectos específicos del negocio se incluirán y cuáles se excluyen en el alcance del proyecto?\n",
    "- ¿De qué forma el cliente o beneficiario utilizará el producto del proyecto?\n",
    "\n",
    "---\n",
    "\n",
    "* El objetivo principal del proyecto es desarrollar un modelo de clasificación automatizado utilizando técnicas de machine learning, que permita identificar y clasificar las especies animales presentes en el conjunto de datos de cámaras trampa. Este modelo podrá distinguir entre las diferentes especies etiquetadas, especialmente entre especies herbívoras y carnívoras, hembras y machos, y posiblemente identificar relaciones entre especies (por ejemplo, especies endémicas o invasoras). La solución permitirá procesar grandes volúmenes de datos (2.5 millones de imágenes) de manera eficiente, sin necesidad de intervención manual. Además, se implementarán métodos de optimización para gestionar los recursos computacionales limitados durante el entrenamiento y la predicción del modelo.\n",
    "\n",
    "* El proyecto se centrará únicamente en la clasificación de las imágenes de fauna capturadas por cámaras trampa en Nueva Zelanda, utilizando las 97 especies disponibles en el conjunto de datos. Por tanto, se priorizará la clasificación de las especies a nivel general, como animales herbívoros y carnívoros y se intentará segmentar las especies dentro de estas categorías. Sin embargo, se excluye el análisis más detallado de características biológicas específicas (como edad o estado de salud de los animales) o un estudio profundo sobre sus comportamientos, ya que esto requiere de otros tipos de datos; es de resaltar que no se incluirá un análisis de impacto ambiental o el seguimiento de la biodiversidad en tiempo real, ya que el proyecto se limita a la clasificación de imágenes, sin hacer correlatos ecológicos o de conservación directamente. Por último, dentro de los aspectos que se incluirán se encuentran: preprocesamiento de imágenes y etiquetado de datos, implementación de modelos de clasificación, la optimización del modelo para la clasificación eficiente de especies en función de las imágenes, así como la evaluación y validación del rendimiento del modelo. \n",
    "\n",
    "* El producto final, consiste en un modelo de clasificación entrenado, que se pondrá a disposición de los beneficiarios, incluyendo organizaciones de conservación, parques naturales, ONGs y otros actores interesados en el monitoreo de fauna. Estos beneficiarios podrán usar el modelo para:\n",
    "\n",
    "    * Automatizar la identificación de especies: Reduciendo la necesidad de intervención manual y acelerando el proceso de monitoreo de fauna en los proyectos de conservación.\n",
    "\n",
    "    * Monitoreo y conservación: Mejorando la capacidad para hacer un seguimiento de las especies en peligro, las especies invasoras o la biodiversidad en general. Esto será especialmente útil para la planificación de estrategias de conservación.\n",
    "\n",
    "    * Investigación educativa y turística: Las entidades educativas y los operadores turísticos pueden utilizar el modelo para crear contenido interactivo y educativo, sensibilizando a los estudiantes o visitantes sobre la fauna local y la importancia de su conservación.\n",
    "\n",
    "    El modelo también podría integrarse en aplicaciones o plataformas de monitoreo en tiempo real de fauna, mejorando la eficiencia en la recopilación de datos y ayudando en la toma de decisiones relacionadas con la conservación ambiental."
   ]
  },
  {
   "cell_type": "markdown",
   "metadata": {
    "id": "370e4a5d"
   },
   "source": [
    "### **1.3. Plan**\n",
    "---"
   ]
  },
  {
   "cell_type": "markdown",
   "metadata": {
    "id": "3b465355"
   },
   "source": [
    "---**INGRESE SU RESPUESTA**---"
   ]
  },
  {
   "cell_type": "markdown",
   "metadata": {
    "id": "4a4e145b"
   },
   "source": [
    "## **2. Definición del diseño y/o arquitectura de la solución**\n",
    "---"
   ]
  },
  {
   "cell_type": "markdown",
   "metadata": {
    "id": "2c5f8274"
   },
   "source": [
    "### **2.1. Descripción**\n",
    "---\n",
    "\n",
    "- ¿Cómo se estructura la solución propuesta?\n",
    "- ¿Cuáles son los componentes clave de la solución?\n",
    "- ¿Existen opciones de diseño alternativas y cuáles son sus ventajas y desventajas?"
   ]
  },
  {
   "cell_type": "markdown",
   "metadata": {
    "id": "7261ad96"
   },
   "source": [
    "---**INGRESE SU RESPUESTA**---\n"
   ]
  },
  {
   "cell_type": "markdown",
   "metadata": {
    "id": "iL8ggH64bGKH"
   },
   "source": [
    "### **2.2. Restricciones y escalabilidad**\n",
    "---\n",
    "\n",
    "* ¿Cuáles son los requisitos funcionales y no funcionales de la solución?\n",
    "* ¿Existen restricciones tecnológicas, presupuestarias o de tiempo que deben tenerse en cuenta en el diseño?\n",
    "* ¿Cómo se abordará la escalabilidad de la solución a medida que crezcan los datos o las necesidades del negocio?\n",
    "* ¿Cómo se integrará la nueva solución con los sistemas existentes en la organización?\n",
    "\n",
    "---\n",
    "\n",
    "* Requisitos funcionales:\n",
    "\n",
    "    * Clasificación precisa de imágenes: El modelo debe ser capaz de identificar y clasificar las imágenes de fauna de manera precisa entre las 97 especies presentes en el conjunto de datos, diferenciando entre categorías como herbívoros y carnívoros, machos y hembras, y otras posibles distinciones.\n",
    "\n",
    "    * Interfaz de usuario sencilla: Se debe desarrollar una interfaz para facilitar el uso del modelo por parte de los usuarios finales (por ejemplo, biólogos, conservacionistas), permitiéndoles cargar nuevas imágenes y obtener resultados de clasificación en tiempo real.\n",
    "\n",
    "    * Automatización del proceso: El sistema debe permitir la carga masiva de imágenes, que serán procesadas automáticamente por el modelo sin intervención manual.\n",
    "\n",
    "    * Capacidad de actualización: El modelo debe permitir la inclusión de nuevas especies o actualizaciones en los datos de imágenes sin necesidad de reentrenar completamente el sistema desde cero.\n",
    "\n",
    "* Requisitos no funcionales:\n",
    "\n",
    "    * Desempeño y velocidad: El sistema debe ser capaz de procesar grandes volúmenes de imágenes (2.5 millones de imágenes en este caso) en un tiempo razonable, sin generar cuellos de botella en el proceso de clasificación.\n",
    "\n",
    "    * Escalabilidad: La solución debe ser capaz de manejar un crecimiento en la cantidad de datos (nuevas imágenes) y en la demanda de procesamiento sin comprometer el rendimiento del modelo.\n",
    "\n",
    "    * Seguridad y privacidad: Asegurar que las imágenes y los datos sean tratados de forma segura y que no se expongan a accesos no autorizados, en cumplimiento con normativas de protección de datos y privacidad.\n",
    "\n",
    "\n",
    "* Restricciones tecnológicas:\n",
    "\n",
    "    * Capacidad computacional limitada: La cantidad de imágenes es masiva y el procesamiento de grandes volúmenes puede requerir recursos computacionales significativos. Las máquinas locales utilizadas para entrenar el modelo pueden no ser lo suficientemente potentes, lo que puede requerir la optimización del modelo o el uso de servicios en la nube para el procesamiento de imágenes.\n",
    "\n",
    "    * Limitaciones del hardware local: Si el proyecto se lleva a cabo en un entorno con capacidad limitada en términos de GPUs o CPUs, puede haber restricciones en la velocidad de procesamiento y el entrenamiento de modelos complejos.\n",
    "\n",
    "* Restricciones presupuestarias:\n",
    "\n",
    "    * El uso de infraestructura en la nube para el procesamiento masivo de imágenes y el entrenamiento de modelos puede generar costos, especialmente si el volumen de datos crece significativamente. Es importante planificar el presupuesto de acuerdo con la necesidad de computación y almacenamiento en la nube.\n",
    "    * La implementación de una solución automatizada también podría implicar costos asociados a la creación de la infraestructura de TI necesaria, como servidores, almacenamiento y personal técnico.\n",
    "\n",
    "* Restricciones de tiempo:\n",
    "\n",
    "    * El proyecto debe ser completado dentro de un período específico, lo que implica priorizar ciertas funcionalidades (por ejemplo, obtener una clasificación básica y eficiente) antes de explorar mejoras más complejas.\n",
    "    * El tiempo necesario para preprocesar las imágenes y entrenar el modelo podría ser considerablemente largo debido al gran volumen de datos.\n",
    "\n",
    "* Escalabilidad en términos de datos:\n",
    "\n",
    "    * La solución se diseñará con una arquitectura flexible que permita agregar más imágenes y especies sin afectar significativamente el rendimiento del modelo. Esto incluirá el uso de servicios de almacenamiento escalables en la nube (Google Cloud, AWS, Azure) para manejar grandes volúmenes de datos.\n",
    "    * El modelo de clasificación se entrenará de forma modular, permitiendo la incorporación de nuevas especies o datos sin necesidad de realizar ajustes extensivos al sistema.\n",
    "    * Se implementarán técnicas de optimización de modelos, como redes neuronales más eficientes, o se podrían usar técnicas de paralelización y procesamiento distribuido, utilizando la computación en la nube para distribuir la carga de trabajo.\n",
    "\n",
    "* Escalabilidad en términos de demanda:\n",
    "\n",
    "    * A medida que más organizaciones y entidades interesadas (como ONGs, parques, etc.) adopten el sistema, se podrá integrar una infraestructura que soporte múltiples usuarios simultáneos, ofreciendo un acceso rápido y sin caídas.\n",
    "    * La solución podrá ser expandida para incluir nuevos módulos, como la integración de análisis de comportamiento o monitoreo en tiempo real, conforme las necesidades del negocio evolucionen.\n",
    "\n",
    "* Integración con sistemas existentes:\n",
    "    * El modelo de clasificación y las interfaces se diseñarán para ser fácilmente integrables con los sistemas de monitoreo de fauna o bases de datos que ya estén en uso por las organizaciones de conservación. Esto podría incluir la integración con bases de datos de especies, plataformas de gestión de parques, o sistemas de análisis de biodiversidad.\n",
    "\n",
    "    * El sistema será accesible a través de API o interfaces web, lo que permitirá que otras plataformas de software que utilicen las organizaciones puedan conectarse y usar el modelo de clasificación sin problemas.\n",
    "\n",
    "    * La solución también se podría integrar con plataformas de reporte y visualización de datos, permitiendo a los beneficiarios visualizar estadísticas sobre la fauna observada en diferentes hábitats, contribuyendo al análisis y toma de decisiones en tiempo real."
   ]
  },
  {
   "cell_type": "markdown",
   "metadata": {
    "id": "ceibuW1dNH9a"
   },
   "source": [
    "## **Créditos**\n",
    "---\n",
    "\n",
    "* **Profesor:** [Jorge E. Camargo, PhD](https://dis.unal.edu.co/~jecamargom/)\n",
    "* **Asistentes docentes:**\n",
    "    - [Juan Sebastián Lara Ramírez](https://www.linkedin.com/in/juan-sebastian-lara-ramirez-43570a214/).\n",
    "* **Diseño de imágenes:**\n",
    "    - [Rosa Alejandra Superlano Esquibel](mailto:rsuperlano@unal.edu.co).\n",
    "* **Coordinador de virtualización:**\n",
    "    - [Edder Hernández Forero](https://www.linkedin.com/in/edder-hernandez-forero-28aa8b207/).\n",
    "    \n",
    "**Universidad Nacional de Colombia** - *Facultad de Ingeniería*"
   ]
  }
 ],
 "metadata": {
  "colab": {
   "provenance": []
  },
  "kernelspec": {
   "display_name": "Python 3",
   "name": "python3"
  },
  "language_info": {
   "name": "python"
  }
 },
 "nbformat": 4,
 "nbformat_minor": 0
}
