{
  "nbformat": 4,
  "nbformat_minor": 0,
  "metadata": {
    "colab": {
      "provenance": []
    },
    "kernelspec": {
      "name": "python3",
      "display_name": "Python 3"
    },
    "language_info": {
      "name": "python"
    }
  },
  "cells": [
    {
      "cell_type": "markdown",
      "source": [
        "<img src = \"https://drive.google.com/uc?export=view&id=1NgX3npAnrjqvKv2KLaVgGEY3RtIuLA57\" alt = \"Encabezado MLDS\" width = \"100%\">  </img>"
      ],
      "metadata": {
        "id": "2qrgS_sCJquS"
      }
    },
    {
      "cell_type": "markdown",
      "source": [
        "# **Entendimiento del negocio**\n",
        "---\n",
        "Este notebook es una plantilla que le puede servir como guía para el primer entregable del proyecto aplicado."
      ],
      "metadata": {
        "id": "--22KSZzLR-o"
      }
    },
    {
      "cell_type": "markdown",
      "metadata": {
        "id": "fdb4c33d"
      },
      "source": [
        "## **1. Marco de Proyecto**\n",
        "---\n",
        "\n",
        "Normalmente, se suele construir un marco de proyecto para mostrar los resultados del entendimiento del negocio, es decir, debemos dar respuesta a los siguientes elementos:"
      ]
    },
    {
      "cell_type": "markdown",
      "metadata": {
        "id": "7a974ec1"
      },
      "source": [
        "### **1.1. Trasfondo del Negocio**\n",
        "---\n",
        "- ¿Quienes son los beneficiarios del proyecto? ¿En qué dominio se encuentran (marketing, medicina, entre otros)?\n",
        "- ¿Cuáles son los principales desafíos o problemas de la situación que motivan la necesidad de realizar un proyecto de análisis de datos?"
      ]
    },
    {
      "cell_type": "markdown",
      "metadata": {
        "id": "18d9305a"
      },
      "source": [
        "---**INGRESE SU RESPUESTA**---"
      ]
    },
    {
      "cell_type": "markdown",
      "metadata": {
        "id": "d09c63e5"
      },
      "source": [
        "### **1.2. Alcance**\n",
        "---\n",
        "\n",
        "- ¿Qué  solución se desea implementar?\n",
        "- ¿Cuáles son los límites y fronteras del proyecto de análisis de datos? ¿Qué aspectos específicos del negocio se incluirán y cuáles se excluyen en el alcance del proyecto?\n",
        "- ¿De qué forma el cliente o beneficiario utilizará el producto del proyecto?"
      ]
    },
    {
      "cell_type": "markdown",
      "metadata": {
        "id": "12e3be6b"
      },
      "source": [
        "---**INGRESE SU RESPUESTA**---\n",
        "\n"
      ]
    },
    {
      "cell_type": "markdown",
      "metadata": {
        "id": "370e4a5d"
      },
      "source": [
        "### **1.3. Plan**\n",
        "---\n",
        "\n",
        "Puede agregar una lista de actividades con tiempos estimados, un diagrama de Gantt o integrar alguna herramienta de gestión de proyectos para mostrar la planeación del proyecto como [*Jira*](https://www.atlassian.com/software/jira?&aceid=&adposition=&adgroup=144583570757&campaign=19313283508&creative=641924587890&device=c&keyword=jira%20software%20online&matchtype=p&network=g&placement=&ds_kids=p74602877891&ds_e=GOOGLE&ds_eid=700000001558501&ds_e1=GOOGLE&gad_source=1&gclid=CjwKCAiAqNSsBhAvEiwAn_tmxStBdySS6RxbLNGXE0tWTeJc32ffjQD_1EXZvH6hmQkYZm5bTa3sgBoCX3oQAvD_BwE&gclsrc=aw.ds) o [*Trello*](https://trello.com/?&aceid=&adposition=&adgroup=144675712219&campaign=19250238609&creative=641300630637&device=c&keyword=trello&matchtype=e&network=g&placement=&ds_kids=p74526213668&ds_e=GOOGLE&ds_eid=700000001557344&ds_e1=GOOGLE&gad_source=1&gclid=CjwKCAiAqNSsBhAvEiwAn_tmxWW7Gdzf0Szf-mA-piM2GPM7tk8R0HsgpBALLGHNFq1-2xXMQbxB1RoCs-sQAvD_BwE&gclsrc=aw.ds)."
      ]
    },
    {
      "cell_type": "markdown",
      "source": [],
      "metadata": {
        "id": "--vhrb2M6HoF"
      }
    },
    {
      "cell_type": "markdown",
      "metadata": {
        "id": "3b465355"
      },
      "source": [
        "---**INGRESE SU RESPUESTA**---"
      ]
    },
    {
      "cell_type": "markdown",
      "metadata": {
        "id": "4a4e145b"
      },
      "source": [
        "## **2. Definición del diseño y/o arquitectura de la solución**\n",
        "---\n",
        "\n",
        "En esta sección debe abordar de manera integral la definición del diseño y/o arquitectura de la solución."
      ]
    },
    {
      "cell_type": "markdown",
      "metadata": {
        "id": "2c5f8274"
      },
      "source": [
        "### **2.1. Descripción**\n",
        "---\n",
        "\n",
        "- ¿Cómo se estructura la solución propuesta?\n",
        "- ¿Cuáles son los componentes clave de la solución?\n",
        "- ¿Existen opciones de diseño alternativas y cuáles son sus ventajas y desventajas?"
      ]
    },
    {
      "cell_type": "code",
      "source": [],
      "metadata": {
        "id": "QmXs6hZO2P-Z"
      },
      "execution_count": null,
      "outputs": []
    },
    {
      "cell_type": "markdown",
      "metadata": {
        "id": "7261ad96"
      },
      "source": [
        "---**INGRESE SU RESPUESTA**---\n"
      ]
    },
    {
      "cell_type": "markdown",
      "source": [
        "### **2.2. Restricciones y escalabilidad**\n",
        "---\n",
        "\n",
        "- ¿Cuáles son los requisitos funcionales y no funcionales de la solución?\n",
        "- ¿Existen restricciones tecnológicas, presupuestarias o de tiempo que deben tenerse en cuenta en el diseño?\n",
        "- ¿Cómo se abordará la escalabilidad de la solución a medida que crezcan los datos o las necesidades del negocio?\n",
        "- ¿Cómo se integrará la nueva solución con los sistemas existentes en la organización?"
      ],
      "metadata": {
        "id": "iL8ggH64bGKH"
      }
    },
    {
      "cell_type": "markdown",
      "source": [
        "---**INGRESE SU RESPUESTA**---"
      ],
      "metadata": {
        "id": "a01kNriAbbfN"
      }
    },
    {
      "cell_type": "markdown",
      "source": [
        "## **Créditos**\n",
        "---\n",
        "\n",
        "* **Profesor:** [Jorge E. Camargo, PhD](https://dis.unal.edu.co/~jecamargom/)\n",
        "* **Asistentes docentes:**\n",
        "    - [Juan Sebastián Lara Ramírez](https://www.linkedin.com/in/juan-sebastian-lara-ramirez-43570a214/).\n",
        "* **Diseño de imágenes:**\n",
        "    - [Rosa Alejandra Superlano Esquibel](mailto:rsuperlano@unal.edu.co).\n",
        "* **Coordinador de virtualización:**\n",
        "    - [Edder Hernández Forero](https://www.linkedin.com/in/edder-hernandez-forero-28aa8b207/).\n",
        "    \n",
        "**Universidad Nacional de Colombia** - *Facultad de Ingeniería*"
      ],
      "metadata": {
        "id": "ceibuW1dNH9a"
      }
    }
  ]
}